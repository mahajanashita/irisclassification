{
  "nbformat": 4,
  "nbformat_minor": 0,
  "metadata": {
    "colab": {
      "name": "yiris.ipynb",
      "provenance": [],
      "mount_file_id": "1NDEJTpFknzVh_zha1emE932ykdSmavGI",
      "authorship_tag": "ABX9TyPMoEMBHC/g/2Imhr2ogosD",
      "include_colab_link": true
    },
    "kernelspec": {
      "name": "python3",
      "display_name": "Python 3"
    }
  },
  "cells": [
    {
      "cell_type": "markdown",
      "metadata": {
        "id": "view-in-github",
        "colab_type": "text"
      },
      "source": [
        "<a href=\"https://colab.research.google.com/github/mahajanashita/irisclassification/blob/main/yiris.ipynb\" target=\"_parent\"><img src=\"https://colab.research.google.com/assets/colab-badge.svg\" alt=\"Open In Colab\"/></a>"
      ]
    },
    {
      "cell_type": "code",
      "metadata": {
        "id": "MD2oIdMgXYoi"
      },
      "source": [
        "import pandas as pd\n",
        "import numpy as np \n",
        "import seaborn as sns\n",
        "import matplotlib.pyplot as plt\n"
      ],
      "execution_count": null,
      "outputs": []
    },
    {
      "cell_type": "code",
      "metadata": {
        "id": "iJUMYbtDYALJ",
        "colab": {
          "base_uri": "https://localhost:8080/",
          "height": 195
        },
        "outputId": "1db8afb5-cef4-407f-8ada-c1ff6bec3a8a"
      },
      "source": [
        "data=pd.read_csv(\"/content/drive/My Drive/Iris.csv\")\n",
        "\n",
        "data.head()"
      ],
      "execution_count": null,
      "outputs": [
        {
          "output_type": "execute_result",
          "data": {
            "text/html": [
              "<div>\n",
              "<style scoped>\n",
              "    .dataframe tbody tr th:only-of-type {\n",
              "        vertical-align: middle;\n",
              "    }\n",
              "\n",
              "    .dataframe tbody tr th {\n",
              "        vertical-align: top;\n",
              "    }\n",
              "\n",
              "    .dataframe thead th {\n",
              "        text-align: right;\n",
              "    }\n",
              "</style>\n",
              "<table border=\"1\" class=\"dataframe\">\n",
              "  <thead>\n",
              "    <tr style=\"text-align: right;\">\n",
              "      <th></th>\n",
              "      <th>Id</th>\n",
              "      <th>SepalLengthCm</th>\n",
              "      <th>SepalWidthCm</th>\n",
              "      <th>PetalLengthCm</th>\n",
              "      <th>PetalWidthCm</th>\n",
              "      <th>Species</th>\n",
              "    </tr>\n",
              "  </thead>\n",
              "  <tbody>\n",
              "    <tr>\n",
              "      <th>0</th>\n",
              "      <td>1</td>\n",
              "      <td>5.1</td>\n",
              "      <td>3.5</td>\n",
              "      <td>1.4</td>\n",
              "      <td>0.2</td>\n",
              "      <td>Iris-setosa</td>\n",
              "    </tr>\n",
              "    <tr>\n",
              "      <th>1</th>\n",
              "      <td>2</td>\n",
              "      <td>4.9</td>\n",
              "      <td>3.0</td>\n",
              "      <td>1.4</td>\n",
              "      <td>0.2</td>\n",
              "      <td>Iris-setosa</td>\n",
              "    </tr>\n",
              "    <tr>\n",
              "      <th>2</th>\n",
              "      <td>3</td>\n",
              "      <td>4.7</td>\n",
              "      <td>3.2</td>\n",
              "      <td>1.3</td>\n",
              "      <td>0.2</td>\n",
              "      <td>Iris-setosa</td>\n",
              "    </tr>\n",
              "    <tr>\n",
              "      <th>3</th>\n",
              "      <td>4</td>\n",
              "      <td>4.6</td>\n",
              "      <td>3.1</td>\n",
              "      <td>1.5</td>\n",
              "      <td>0.2</td>\n",
              "      <td>Iris-setosa</td>\n",
              "    </tr>\n",
              "    <tr>\n",
              "      <th>4</th>\n",
              "      <td>5</td>\n",
              "      <td>5.0</td>\n",
              "      <td>3.6</td>\n",
              "      <td>1.4</td>\n",
              "      <td>0.2</td>\n",
              "      <td>Iris-setosa</td>\n",
              "    </tr>\n",
              "  </tbody>\n",
              "</table>\n",
              "</div>"
            ],
            "text/plain": [
              "   Id  SepalLengthCm  SepalWidthCm  PetalLengthCm  PetalWidthCm      Species\n",
              "0   1            5.1           3.5            1.4           0.2  Iris-setosa\n",
              "1   2            4.9           3.0            1.4           0.2  Iris-setosa\n",
              "2   3            4.7           3.2            1.3           0.2  Iris-setosa\n",
              "3   4            4.6           3.1            1.5           0.2  Iris-setosa\n",
              "4   5            5.0           3.6            1.4           0.2  Iris-setosa"
            ]
          },
          "metadata": {
            "tags": []
          },
          "execution_count": 2
        }
      ]
    },
    {
      "cell_type": "code",
      "metadata": {
        "id": "yQp1oLoYYoYs"
      },
      "source": [
        "import keras\n",
        "from keras.layers import Dense\n",
        "from keras.models import Sequential\n",
        "import pydot\n",
        "import graphviz\n",
        "from keras.utils.vis_utils import model_to_dot\n",
        "from keras.utils import plot_model\n",
        "from IPython.display import SVG\n"
      ],
      "execution_count": null,
      "outputs": []
    },
    {
      "cell_type": "code",
      "metadata": {
        "id": "tXb7M3KMa0IS"
      },
      "source": [
        "x=data.iloc[:,0:5].values\n",
        "y=data.iloc[:,5].values\n",
        "from sklearn.preprocessing import LabelEncoder\n",
        "lbx_1=LabelEncoder()\n",
        "y1=lbx_1.fit_transform(y)\n",
        "# work on missing values\n",
        "y=pd.get_dummies(y1).values "
      ],
      "execution_count": null,
      "outputs": []
    },
    {
      "cell_type": "code",
      "metadata": {
        "id": "k993evbVdab2",
        "colab": {
          "base_uri": "https://localhost:8080/",
          "height": 134
        },
        "outputId": "9a07d298-00df-4a76-b799-548a2c525eaf"
      },
      "source": [
        "y1"
      ],
      "execution_count": null,
      "outputs": [
        {
          "output_type": "execute_result",
          "data": {
            "text/plain": [
              "array([0, 0, 0, 0, 0, 0, 0, 0, 0, 0, 0, 0, 0, 0, 0, 0, 0, 0, 0, 0, 0, 0,\n",
              "       0, 0, 0, 0, 0, 0, 0, 0, 0, 0, 0, 0, 0, 0, 0, 0, 0, 0, 0, 0, 0, 0,\n",
              "       0, 0, 0, 0, 0, 0, 1, 1, 1, 1, 1, 1, 1, 1, 1, 1, 1, 1, 1, 1, 1, 1,\n",
              "       1, 1, 1, 1, 1, 1, 1, 1, 1, 1, 1, 1, 1, 1, 1, 1, 1, 1, 1, 1, 1, 1,\n",
              "       1, 1, 1, 1, 1, 1, 1, 1, 1, 1, 1, 1, 2, 2, 2, 2, 2, 2, 2, 2, 2, 2,\n",
              "       2, 2, 2, 2, 2, 2, 2, 2, 2, 2, 2, 2, 2, 2, 2, 2, 2, 2, 2, 2, 2, 2,\n",
              "       2, 2, 2, 2, 2, 2, 2, 2, 2, 2, 2, 2, 2, 2, 2, 2, 2, 2])"
            ]
          },
          "metadata": {
            "tags": []
          },
          "execution_count": 5
        }
      ]
    },
    {
      "cell_type": "code",
      "metadata": {
        "id": "J_774-C0deDM"
      },
      "source": [
        "from sklearn.model_selection import train_test_split\n",
        "x_train,x_test,y_train,y_test=train_test_split(x,y,test_size=0.2,random_state=0)"
      ],
      "execution_count": null,
      "outputs": []
    },
    {
      "cell_type": "code",
      "metadata": {
        "id": "7h1e1rTedgGb"
      },
      "source": [
        "model=Sequential()\n",
        "\n",
        "#first layer\n",
        "model.add(Dense(5,input_shape=[10, 5],activation=\"relu\"))\n",
        "#second layer\n",
        "model.add(Dense(3,activation=\"softmax\"))\n"
      ],
      "execution_count": null,
      "outputs": []
    },
    {
      "cell_type": "code",
      "metadata": {
        "id": "qdAGpcpNfiCx"
      },
      "source": [
        "model.compile(optimizer=\"Adam\",loss=\"categorical_crossentropy\",metrics=['accuracy'])"
      ],
      "execution_count": null,
      "outputs": []
    },
    {
      "cell_type": "code",
      "metadata": {
        "id": "-NhBgBr3gehW",
        "colab": {
          "base_uri": "https://localhost:8080/",
          "height": 1000
        },
        "outputId": "2cd138c3-4d63-4ae7-98cf-d322baafb525"
      },
      "source": [
        "model.fit(x_train ,y_train , batch_size=10, epochs=100)"
      ],
      "execution_count": null,
      "outputs": [
        {
          "output_type": "stream",
          "text": [
            "Epoch 1/100\n",
            "WARNING:tensorflow:Model was constructed with shape (None, 10, 5) for input Tensor(\"dense_input:0\", shape=(None, 10, 5), dtype=float32), but it was called on an input with incompatible shape (10, 5).\n",
            "WARNING:tensorflow:Model was constructed with shape (None, 10, 5) for input Tensor(\"dense_input:0\", shape=(None, 10, 5), dtype=float32), but it was called on an input with incompatible shape (10, 5).\n",
            "12/12 [==============================] - 0s 2ms/step - loss: 20.9158 - accuracy: 0.6500\n",
            "Epoch 2/100\n",
            "12/12 [==============================] - 0s 1ms/step - loss: 19.9403 - accuracy: 0.6917\n",
            "Epoch 3/100\n",
            "12/12 [==============================] - 0s 1ms/step - loss: 18.9150 - accuracy: 0.6917\n",
            "Epoch 4/100\n",
            "12/12 [==============================] - 0s 1ms/step - loss: 17.9562 - accuracy: 0.6917\n",
            "Epoch 5/100\n",
            "12/12 [==============================] - 0s 1ms/step - loss: 17.0168 - accuracy: 0.6917\n",
            "Epoch 6/100\n",
            "12/12 [==============================] - 0s 1ms/step - loss: 16.0413 - accuracy: 0.6917\n",
            "Epoch 7/100\n",
            "12/12 [==============================] - 0s 1ms/step - loss: 15.1539 - accuracy: 0.6917\n",
            "Epoch 8/100\n",
            "12/12 [==============================] - 0s 1ms/step - loss: 14.3009 - accuracy: 0.6917\n",
            "Epoch 9/100\n",
            "12/12 [==============================] - 0s 1ms/step - loss: 13.4197 - accuracy: 0.6917\n",
            "Epoch 10/100\n",
            "12/12 [==============================] - 0s 1ms/step - loss: 12.6569 - accuracy: 0.6917\n",
            "Epoch 11/100\n",
            "12/12 [==============================] - 0s 1ms/step - loss: 11.8662 - accuracy: 0.6917\n",
            "Epoch 12/100\n",
            "12/12 [==============================] - 0s 1ms/step - loss: 11.1796 - accuracy: 0.6917\n",
            "Epoch 13/100\n",
            "12/12 [==============================] - 0s 1ms/step - loss: 10.4436 - accuracy: 0.6917\n",
            "Epoch 14/100\n",
            "12/12 [==============================] - 0s 1ms/step - loss: 9.7986 - accuracy: 0.6917\n",
            "Epoch 15/100\n",
            "12/12 [==============================] - 0s 1ms/step - loss: 9.1337 - accuracy: 0.6917\n",
            "Epoch 16/100\n",
            "12/12 [==============================] - 0s 1ms/step - loss: 8.4707 - accuracy: 0.6833\n",
            "Epoch 17/100\n",
            "12/12 [==============================] - 0s 1ms/step - loss: 7.9330 - accuracy: 0.6833\n",
            "Epoch 18/100\n",
            "12/12 [==============================] - 0s 1ms/step - loss: 7.3266 - accuracy: 0.6833\n",
            "Epoch 19/100\n",
            "12/12 [==============================] - 0s 1ms/step - loss: 6.7515 - accuracy: 0.6833\n",
            "Epoch 20/100\n",
            "12/12 [==============================] - 0s 2ms/step - loss: 6.2435 - accuracy: 0.6833\n",
            "Epoch 21/100\n",
            "12/12 [==============================] - 0s 2ms/step - loss: 5.7399 - accuracy: 0.6833\n",
            "Epoch 22/100\n",
            "12/12 [==============================] - 0s 1ms/step - loss: 5.2582 - accuracy: 0.6833\n",
            "Epoch 23/100\n",
            "12/12 [==============================] - 0s 1ms/step - loss: 4.8072 - accuracy: 0.6833\n",
            "Epoch 24/100\n",
            "12/12 [==============================] - 0s 1ms/step - loss: 4.3367 - accuracy: 0.6750\n",
            "Epoch 25/100\n",
            "12/12 [==============================] - 0s 1ms/step - loss: 3.8977 - accuracy: 0.6583\n",
            "Epoch 26/100\n",
            "12/12 [==============================] - 0s 1ms/step - loss: 3.4872 - accuracy: 0.6500\n",
            "Epoch 27/100\n",
            "12/12 [==============================] - 0s 1ms/step - loss: 3.0917 - accuracy: 0.6500\n",
            "Epoch 28/100\n",
            "12/12 [==============================] - 0s 1ms/step - loss: 2.6909 - accuracy: 0.6333\n",
            "Epoch 29/100\n",
            "12/12 [==============================] - 0s 1ms/step - loss: 2.3228 - accuracy: 0.6250\n",
            "Epoch 30/100\n",
            "12/12 [==============================] - 0s 1ms/step - loss: 1.9723 - accuracy: 0.6250\n",
            "Epoch 31/100\n",
            "12/12 [==============================] - 0s 1ms/step - loss: 1.6318 - accuracy: 0.6250\n",
            "Epoch 32/100\n",
            "12/12 [==============================] - 0s 1ms/step - loss: 1.3075 - accuracy: 0.6250\n",
            "Epoch 33/100\n",
            "12/12 [==============================] - 0s 1ms/step - loss: 0.9687 - accuracy: 0.6333\n",
            "Epoch 34/100\n",
            "12/12 [==============================] - 0s 1ms/step - loss: 0.7454 - accuracy: 0.6583\n",
            "Epoch 35/100\n",
            "12/12 [==============================] - 0s 1ms/step - loss: 0.5404 - accuracy: 0.6750\n",
            "Epoch 36/100\n",
            "12/12 [==============================] - 0s 1ms/step - loss: 0.4856 - accuracy: 0.7167\n",
            "Epoch 37/100\n",
            "12/12 [==============================] - 0s 1ms/step - loss: 0.4807 - accuracy: 0.7833\n",
            "Epoch 38/100\n",
            "12/12 [==============================] - 0s 1ms/step - loss: 0.4621 - accuracy: 0.8000\n",
            "Epoch 39/100\n",
            "12/12 [==============================] - 0s 1ms/step - loss: 0.4538 - accuracy: 0.7917\n",
            "Epoch 40/100\n",
            "12/12 [==============================] - 0s 1ms/step - loss: 0.4400 - accuracy: 0.8083\n",
            "Epoch 41/100\n",
            "12/12 [==============================] - 0s 1ms/step - loss: 0.4269 - accuracy: 0.8250\n",
            "Epoch 42/100\n",
            "12/12 [==============================] - 0s 1ms/step - loss: 0.4155 - accuracy: 0.8333\n",
            "Epoch 43/100\n",
            "12/12 [==============================] - 0s 1ms/step - loss: 0.4021 - accuracy: 0.8417\n",
            "Epoch 44/100\n",
            "12/12 [==============================] - 0s 1ms/step - loss: 0.3881 - accuracy: 0.8500\n",
            "Epoch 45/100\n",
            "12/12 [==============================] - 0s 2ms/step - loss: 0.3699 - accuracy: 0.8417\n",
            "Epoch 46/100\n",
            "12/12 [==============================] - 0s 1ms/step - loss: 0.3573 - accuracy: 0.8583\n",
            "Epoch 47/100\n",
            "12/12 [==============================] - 0s 1ms/step - loss: 0.3469 - accuracy: 0.8583\n",
            "Epoch 48/100\n",
            "12/12 [==============================] - 0s 1ms/step - loss: 0.3416 - accuracy: 0.8833\n",
            "Epoch 49/100\n",
            "12/12 [==============================] - 0s 1ms/step - loss: 0.3318 - accuracy: 0.8500\n",
            "Epoch 50/100\n",
            "12/12 [==============================] - 0s 1ms/step - loss: 0.3269 - accuracy: 0.8583\n",
            "Epoch 51/100\n",
            "12/12 [==============================] - 0s 1ms/step - loss: 0.3223 - accuracy: 0.8833\n",
            "Epoch 52/100\n",
            "12/12 [==============================] - 0s 1ms/step - loss: 0.3159 - accuracy: 0.8667\n",
            "Epoch 53/100\n",
            "12/12 [==============================] - 0s 2ms/step - loss: 0.3139 - accuracy: 0.8667\n",
            "Epoch 54/100\n",
            "12/12 [==============================] - 0s 1ms/step - loss: 0.3060 - accuracy: 0.8750\n",
            "Epoch 55/100\n",
            "12/12 [==============================] - 0s 1ms/step - loss: 0.2941 - accuracy: 0.8833\n",
            "Epoch 56/100\n",
            "12/12 [==============================] - 0s 2ms/step - loss: 0.2861 - accuracy: 0.8583\n",
            "Epoch 57/100\n",
            "12/12 [==============================] - 0s 2ms/step - loss: 0.2827 - accuracy: 0.8583\n",
            "Epoch 58/100\n",
            "12/12 [==============================] - 0s 1ms/step - loss: 0.2788 - accuracy: 0.8833\n",
            "Epoch 59/100\n",
            "12/12 [==============================] - 0s 1ms/step - loss: 0.2697 - accuracy: 0.8750\n",
            "Epoch 60/100\n",
            "12/12 [==============================] - 0s 1ms/step - loss: 0.2649 - accuracy: 0.8833\n",
            "Epoch 61/100\n",
            "12/12 [==============================] - 0s 1ms/step - loss: 0.2629 - accuracy: 0.8750\n",
            "Epoch 62/100\n",
            "12/12 [==============================] - 0s 1ms/step - loss: 0.2598 - accuracy: 0.8833\n",
            "Epoch 63/100\n",
            "12/12 [==============================] - 0s 2ms/step - loss: 0.2545 - accuracy: 0.8833\n",
            "Epoch 64/100\n",
            "12/12 [==============================] - 0s 2ms/step - loss: 0.2515 - accuracy: 0.8750\n",
            "Epoch 65/100\n",
            "12/12 [==============================] - 0s 1ms/step - loss: 0.2478 - accuracy: 0.9000\n",
            "Epoch 66/100\n",
            "12/12 [==============================] - 0s 2ms/step - loss: 0.2494 - accuracy: 0.9000\n",
            "Epoch 67/100\n",
            "12/12 [==============================] - 0s 1ms/step - loss: 0.2489 - accuracy: 0.8750\n",
            "Epoch 68/100\n",
            "12/12 [==============================] - 0s 1ms/step - loss: 0.2412 - accuracy: 0.9000\n",
            "Epoch 69/100\n",
            "12/12 [==============================] - 0s 1ms/step - loss: 0.2393 - accuracy: 0.8917\n",
            "Epoch 70/100\n",
            "12/12 [==============================] - 0s 2ms/step - loss: 0.2382 - accuracy: 0.9000\n",
            "Epoch 71/100\n",
            "12/12 [==============================] - 0s 2ms/step - loss: 0.2377 - accuracy: 0.8917\n",
            "Epoch 72/100\n",
            "12/12 [==============================] - 0s 1ms/step - loss: 0.2302 - accuracy: 0.9000\n",
            "Epoch 73/100\n",
            "12/12 [==============================] - 0s 1ms/step - loss: 0.2362 - accuracy: 0.9083\n",
            "Epoch 74/100\n",
            "12/12 [==============================] - 0s 1ms/step - loss: 0.2269 - accuracy: 0.9000\n",
            "Epoch 75/100\n",
            "12/12 [==============================] - 0s 1ms/step - loss: 0.2286 - accuracy: 0.9000\n",
            "Epoch 76/100\n",
            "12/12 [==============================] - 0s 1ms/step - loss: 0.2259 - accuracy: 0.9083\n",
            "Epoch 77/100\n",
            "12/12 [==============================] - 0s 2ms/step - loss: 0.2238 - accuracy: 0.9000\n",
            "Epoch 78/100\n",
            "12/12 [==============================] - 0s 2ms/step - loss: 0.2233 - accuracy: 0.9083\n",
            "Epoch 79/100\n",
            "12/12 [==============================] - 0s 1ms/step - loss: 0.2362 - accuracy: 0.9000\n",
            "Epoch 80/100\n",
            "12/12 [==============================] - 0s 1ms/step - loss: 0.2269 - accuracy: 0.9000\n",
            "Epoch 81/100\n",
            "12/12 [==============================] - 0s 2ms/step - loss: 0.2168 - accuracy: 0.9000\n",
            "Epoch 82/100\n",
            "12/12 [==============================] - 0s 1ms/step - loss: 0.2202 - accuracy: 0.9000\n",
            "Epoch 83/100\n",
            "12/12 [==============================] - 0s 2ms/step - loss: 0.2141 - accuracy: 0.9083\n",
            "Epoch 84/100\n",
            "12/12 [==============================] - 0s 1ms/step - loss: 0.2145 - accuracy: 0.9083\n",
            "Epoch 85/100\n",
            "12/12 [==============================] - 0s 2ms/step - loss: 0.2153 - accuracy: 0.9083\n",
            "Epoch 86/100\n",
            "12/12 [==============================] - 0s 2ms/step - loss: 0.2143 - accuracy: 0.9083\n",
            "Epoch 87/100\n",
            "12/12 [==============================] - 0s 1ms/step - loss: 0.2104 - accuracy: 0.9083\n",
            "Epoch 88/100\n",
            "12/12 [==============================] - 0s 1ms/step - loss: 0.2090 - accuracy: 0.9083\n",
            "Epoch 89/100\n",
            "12/12 [==============================] - 0s 1ms/step - loss: 0.2071 - accuracy: 0.9083\n",
            "Epoch 90/100\n",
            "12/12 [==============================] - 0s 1ms/step - loss: 0.2125 - accuracy: 0.9000\n",
            "Epoch 91/100\n",
            "12/12 [==============================] - 0s 2ms/step - loss: 0.2106 - accuracy: 0.9083\n",
            "Epoch 92/100\n",
            "12/12 [==============================] - 0s 1ms/step - loss: 0.2070 - accuracy: 0.8917\n",
            "Epoch 93/100\n",
            "12/12 [==============================] - 0s 1ms/step - loss: 0.2140 - accuracy: 0.9000\n",
            "Epoch 94/100\n",
            "12/12 [==============================] - 0s 1ms/step - loss: 0.2023 - accuracy: 0.9083\n",
            "Epoch 95/100\n",
            "12/12 [==============================] - 0s 1ms/step - loss: 0.2021 - accuracy: 0.9167\n",
            "Epoch 96/100\n",
            "12/12 [==============================] - 0s 1ms/step - loss: 0.2086 - accuracy: 0.9000\n",
            "Epoch 97/100\n",
            "12/12 [==============================] - 0s 2ms/step - loss: 0.1965 - accuracy: 0.9167\n",
            "Epoch 98/100\n",
            "12/12 [==============================] - 0s 2ms/step - loss: 0.2075 - accuracy: 0.9083\n",
            "Epoch 99/100\n",
            "12/12 [==============================] - 0s 2ms/step - loss: 0.2013 - accuracy: 0.9083\n",
            "Epoch 100/100\n",
            "12/12 [==============================] - 0s 1ms/step - loss: 0.1986 - accuracy: 0.9083\n"
          ],
          "name": "stdout"
        },
        {
          "output_type": "execute_result",
          "data": {
            "text/plain": [
              "<tensorflow.python.keras.callbacks.History at 0x7f1bf7b38d30>"
            ]
          },
          "metadata": {
            "tags": []
          },
          "execution_count": 9
        }
      ]
    },
    {
      "cell_type": "code",
      "metadata": {
        "id": "Ex5zQkW_ildS",
        "colab": {
          "base_uri": "https://localhost:8080/",
          "height": 54
        },
        "outputId": "c46669e9-1c34-4a13-c0fc-acba5f742ac4"
      },
      "source": [
        "y_pred=model.predict(x_test)\n",
        "y_test_class=np.argmax(y_test,axis=1)\n",
        "y_pred_class=np.argmax(y_pred,axis=1)"
      ],
      "execution_count": null,
      "outputs": [
        {
          "output_type": "stream",
          "text": [
            "WARNING:tensorflow:Model was constructed with shape (None, 10, 5) for input Tensor(\"dense_input:0\", shape=(None, 10, 5), dtype=float32), but it was called on an input with incompatible shape (None, 5).\n"
          ],
          "name": "stdout"
        }
      ]
    },
    {
      "cell_type": "code",
      "metadata": {
        "id": "DfuBpewAjzuc",
        "colab": {
          "base_uri": "https://localhost:8080/",
          "height": 235
        },
        "outputId": "7c183298-7246-4f2e-b515-1f99929328f5"
      },
      "source": [
        "from sklearn.metrics import confusion_matrix,classification_report\n",
        "\n",
        "print(confusion_matrix(y_test_class,y_pred_class))\n",
        "print(classification_report(y_test_class,y_pred_class))"
      ],
      "execution_count": null,
      "outputs": [
        {
          "output_type": "stream",
          "text": [
            "[[11  0  0]\n",
            " [ 0 10  3]\n",
            " [ 0  2  4]]\n",
            "              precision    recall  f1-score   support\n",
            "\n",
            "           0       1.00      1.00      1.00        11\n",
            "           1       0.83      0.77      0.80        13\n",
            "           2       0.57      0.67      0.62         6\n",
            "\n",
            "    accuracy                           0.83        30\n",
            "   macro avg       0.80      0.81      0.81        30\n",
            "weighted avg       0.84      0.83      0.84        30\n",
            "\n"
          ],
          "name": "stdout"
        }
      ]
    },
    {
      "cell_type": "code",
      "metadata": {
        "id": "SbnJxrMCkmqo",
        "colab": {
          "base_uri": "https://localhost:8080/",
          "height": 34
        },
        "outputId": "ed3de400-eb8b-44e0-bea9-c45525a0a3b6"
      },
      "source": [
        "26/30"
      ],
      "execution_count": null,
      "outputs": [
        {
          "output_type": "execute_result",
          "data": {
            "text/plain": [
              "0.8666666666666667"
            ]
          },
          "metadata": {
            "tags": []
          },
          "execution_count": 61
        }
      ]
    },
    {
      "cell_type": "code",
      "metadata": {
        "colab": {
          "base_uri": "https://localhost:8080/"
        },
        "id": "-CwKzJqLKTJi",
        "outputId": "6701dcdc-f6d2-4069-e17f-a2a6f2eca124"
      },
      "source": [
        "!git clone https://github.com/mahajanashita/irisclassification.git"
      ],
      "execution_count": 2,
      "outputs": [
        {
          "output_type": "stream",
          "text": [
            "fatal: destination path 'irisclassification' already exists and is not an empty directory.\n"
          ],
          "name": "stdout"
        }
      ]
    }
  ]
}